{
 "cells": [
  {
   "cell_type": "markdown",
   "metadata": {},
   "source": [
    "# Coding Exercise: Model Adaption Meta Learning\n",
    "\n",
    "In this tutorial, we will implement Model Adaption Meta Learning, to learn a simple curve of sinusoidal data.\n",
    "If you recall Model Agnostic Meta Learning, consists of 2 loops:\n",
    "1. To learn parameters for all tasks.\n",
    "2. To learn task specific parameters\n",
    "\n",
    "MAML algorithm aims to learn such parameters that can adapt to new tasks with very few examples. "
   ]
  },
  {
   "cell_type": "markdown",
   "metadata": {},
   "source": [
    "<img src=\"Images/parameters.png\" width=\"600\"/>"
   ]
  },
  {
   "cell_type": "markdown",
   "metadata": {},
   "source": [
    "\n",
    "<img src=\"Images/maml_algo.png\" width=\"500\"/>\n"
   ]
  },
  {
   "cell_type": "markdown",
   "metadata": {},
   "source": [
    "#### Step 1: Import Libraries \n",
    "Let's begin by importing some simple libraries"
   ]
  },
  {
   "cell_type": "code",
   "execution_count": 1,
   "metadata": {
    "collapsed": true
   },
   "outputs": [],
   "source": [
    "import math\n",
    "import random\n",
    "import torch\n",
    "from torch import nn\n",
    "from torch.nn import functional as F\n",
    "import matplotlib as mpl\n",
    "mpl.use('Agg')\n",
    "import matplotlib.pyplot as plt\n",
    "%matplotlib inline"
   ]
  },
  {
   "cell_type": "markdown",
   "metadata": {},
   "source": [
    "Here we are choosing p(T) as sinsusoidal curve family. So, as next step, we will create a sinsuoidal data points creater function, which will return data points and labels of it."
   ]
  },
  {
   "cell_type": "code",
   "execution_count": 2,
   "metadata": {
    "collapsed": true
   },
   "outputs": [],
   "source": [
    "def generate_dataset(number_of_examples, test=False):\n",
    "    if test:\n",
    "        b = math.pi\n",
    "    else:\n",
    "        b = 0 if random.choice([True, False]) else math.pi # setting up beta variable randomly\n",
    "    x = torch.rand(number_of_examples, 1)*4*math.pi - 2*math.pi # randomly generate x datapoints \n",
    "    y = torch.sin(x + b) # generate labels in form of sine-curve for randomly generated x\n",
    "    return x,y"
   ]
  },
  {
   "cell_type": "markdown",
   "metadata": {},
   "source": [
    "#### Step 2: Create a simple neural network architecture, which is going to learn the sinusoidal curve. \n",
    "As mentioned above, we will be getting randomly generated data of sinusoidal curve so, we will be using a simple 2 layer neural network architecture, and as Loss Function we will use L1 loss, as it's a regression exercise."
   ]
  },
  {
   "cell_type": "code",
   "execution_count": 3,
   "metadata": {
    "collapsed": true
   },
   "outputs": [],
   "source": [
    "def NeuralNetwork(x, params):\n",
    "    x = F.linear(x, params[0], params[1])\n",
    "    x = F.relu(x)\n",
    "    x = F.linear(x, params[2], params[3])\n",
    "    x = F.relu(x)\n",
    "    x = F.linear(x, params[4], params[5])\n",
    "    return x\n",
    "\n",
    "# define Initial Parameters\n",
    "theta = [\n",
    "    torch.Tensor(32, 1).uniform_(-1., 1.).requires_grad_(),\n",
    "    torch.Tensor(32).zero_().requires_grad_(),\n",
    "\n",
    "    torch.Tensor(32, 32).uniform_(-1./math.sqrt(32), 1./math.sqrt(32)).requires_grad_(),\n",
    "    torch.Tensor(32).zero_().requires_grad_(),\n",
    "\n",
    "    torch.Tensor(1, 32).uniform_(-1./math.sqrt(32), 1./math.sqrt(32)).requires_grad_(),\n",
    "    torch.Tensor(1).zero_().requires_grad_(),\n",
    "]"
   ]
  },
  {
   "cell_type": "markdown",
   "metadata": {},
   "source": [
    "#### step 3: set up parameters for training \n",
    "We will be using Stochastic Gradient Descent Optimization Method, and training model using just 5 examples per task.\n",
    "We can also set it to 1, to make it one-shot learning. \n",
    "Here, alpha and beta is a hyper-parameter, can be seen as learning rate. "
   ]
  },
  {
   "cell_type": "code",
   "execution_count": 4,
   "metadata": {
    "collapsed": true
   },
   "outputs": [],
   "source": [
    "alpha, beta = 3e-2, 1e-2 # hyper-paramaters as shown in algorithm above.\n",
    "opt = torch.optim.SGD(theta, lr=beta) # Optimizer\n",
    "number_of_examples= 5 # 5-shot learning, 5 examples per task.\n",
    "iterations = 100000 # number of iterations to enable the model to reach optimal point\n",
    "epochs = 4 # number of iterations to train task specific model"
   ]
  },
  {
   "cell_type": "markdown",
   "metadata": {},
   "source": [
    "#### Step 4:  Implement Optimization Algorithm"
   ]
  },
  {
   "cell_type": "code",
   "execution_count": 5,
   "metadata": {},
   "outputs": [
    {
     "name": "stdout",
     "output_type": "stream",
     "text": [
      "Iteration 0 Loss 0.7769\n",
      "Iteration 1000 Loss 0.8167\n",
      "Iteration 2000 Loss 0.3264\n",
      "Iteration 3000 Loss 0.6297\n",
      "Iteration 4000 Loss 0.7330\n",
      "Iteration 5000 Loss 0.5633\n",
      "Iteration 6000 Loss 0.6545\n",
      "Iteration 7000 Loss 0.7192\n",
      "Iteration 8000 Loss 0.3932\n",
      "Iteration 9000 Loss 0.8063\n",
      "Iteration 10000 Loss 0.6289\n",
      "Iteration 11000 Loss 0.6174\n",
      "Iteration 12000 Loss 0.7092\n",
      "Iteration 13000 Loss 0.6059\n",
      "Iteration 14000 Loss 0.7731\n",
      "Iteration 15000 Loss 0.4221\n",
      "Iteration 16000 Loss 0.5452\n",
      "Iteration 17000 Loss 0.3352\n",
      "Iteration 18000 Loss 0.3369\n",
      "Iteration 19000 Loss 0.6712\n",
      "Iteration 20000 Loss 0.4838\n",
      "Iteration 21000 Loss 0.4788\n",
      "Iteration 22000 Loss 0.4932\n",
      "Iteration 23000 Loss 0.9714\n",
      "Iteration 24000 Loss 0.3798\n",
      "Iteration 25000 Loss 0.2735\n",
      "Iteration 26000 Loss 0.1745\n",
      "Iteration 27000 Loss 0.1496\n",
      "Iteration 28000 Loss 0.5535\n",
      "Iteration 29000 Loss 0.2386\n",
      "Iteration 30000 Loss 0.2878\n",
      "Iteration 31000 Loss 0.4920\n",
      "Iteration 32000 Loss 0.2879\n",
      "Iteration 33000 Loss 0.1564\n",
      "Iteration 34000 Loss 0.4612\n",
      "Iteration 35000 Loss 0.0270\n",
      "Iteration 36000 Loss 0.1737\n",
      "Iteration 37000 Loss 0.0552\n",
      "Iteration 38000 Loss 0.2631\n",
      "Iteration 39000 Loss 0.1117\n",
      "Iteration 40000 Loss 0.0784\n",
      "Iteration 41000 Loss 0.3187\n",
      "Iteration 42000 Loss 0.2018\n",
      "Iteration 43000 Loss 0.0920\n",
      "Iteration 44000 Loss 0.1686\n",
      "Iteration 45000 Loss 0.0830\n",
      "Iteration 46000 Loss 0.1739\n",
      "Iteration 47000 Loss 0.1474\n",
      "Iteration 48000 Loss 0.1199\n",
      "Iteration 49000 Loss 0.2148\n",
      "Iteration 50000 Loss 0.1277\n",
      "Iteration 51000 Loss 0.0893\n",
      "Iteration 52000 Loss 0.1742\n",
      "Iteration 53000 Loss 0.1999\n",
      "Iteration 54000 Loss 0.1891\n",
      "Iteration 55000 Loss 0.1029\n",
      "Iteration 56000 Loss 0.0731\n",
      "Iteration 57000 Loss 0.1106\n",
      "Iteration 58000 Loss 0.1105\n",
      "Iteration 59000 Loss 0.0413\n",
      "Iteration 60000 Loss 0.1894\n",
      "Iteration 61000 Loss 0.0368\n",
      "Iteration 62000 Loss 0.0923\n",
      "Iteration 63000 Loss 0.0545\n",
      "Iteration 64000 Loss 0.1668\n",
      "Iteration 65000 Loss 0.0228\n",
      "Iteration 66000 Loss 0.1297\n",
      "Iteration 67000 Loss 0.1295\n",
      "Iteration 68000 Loss 0.0971\n",
      "Iteration 69000 Loss 0.1857\n",
      "Iteration 70000 Loss 0.0658\n",
      "Iteration 71000 Loss 0.1020\n",
      "Iteration 72000 Loss 0.1177\n",
      "Iteration 73000 Loss 0.0387\n",
      "Iteration 74000 Loss 0.1645\n",
      "Iteration 75000 Loss 0.1069\n",
      "Iteration 76000 Loss 0.1780\n",
      "Iteration 77000 Loss 0.0778\n",
      "Iteration 78000 Loss 0.0665\n",
      "Iteration 79000 Loss 0.1508\n",
      "Iteration 80000 Loss 0.0592\n",
      "Iteration 81000 Loss 0.0669\n",
      "Iteration 82000 Loss 1.1948\n",
      "Iteration 83000 Loss 0.0448\n",
      "Iteration 84000 Loss 0.0564\n",
      "Iteration 85000 Loss 0.2221\n",
      "Iteration 86000 Loss 0.0204\n",
      "Iteration 87000 Loss 0.0956\n",
      "Iteration 88000 Loss 0.0465\n",
      "Iteration 89000 Loss 0.1674\n",
      "Iteration 90000 Loss 0.1361\n",
      "Iteration 91000 Loss 0.0409\n",
      "Iteration 92000 Loss 0.0682\n",
      "Iteration 93000 Loss 0.0397\n",
      "Iteration 94000 Loss 0.0491\n",
      "Iteration 95000 Loss 0.0578\n",
      "Iteration 96000 Loss 0.1249\n",
      "Iteration 97000 Loss 0.2885\n",
      "Iteration 98000 Loss 0.1075\n",
      "Iteration 99000 Loss 0.0787\n"
     ]
    }
   ],
   "source": [
    "for it in range(iterations): # training for 1 million iterations\n",
    "    b = 0 if random.choice([True, False]) else math.pi # setting up beta variable randomly\n",
    "    \n",
    "    #### Randomly obtain task 1 sinusoidal data ####\n",
    "    x = torch.rand(4, 1)*4*math.pi - 2*math.pi\n",
    "    y = torch.sin(x + b)\n",
    "    \n",
    "    #### Randomly obtain the task 2 sinusoidal data ####\n",
    "    v_x = torch.rand(4, 1)*4*math.pi - 2*math.pi\n",
    "    v_y = torch.sin(v_x + b)\n",
    "\n",
    "    opt.zero_grad() # setup optimizer\n",
    "\n",
    "    new_params = theta # initialize weights for inner loop\n",
    "    for k in range(4):\n",
    "        f = NeuralNetwork(x, new_params) # re-initialize task 2 neural network with new parameters\n",
    "        loss = F.l1_loss(f, y) # set loss as L1 Loss\n",
    "\n",
    "        # create_graph=True because computing grads here is part of the forward pass.\n",
    "        # We want to differentiate through the SGD update steps and get higher order\n",
    "        # derivatives in the backward pass.\n",
    "        grads = torch.autograd.grad(loss, new_params, create_graph=True)\n",
    "        new_params = [(new_params[i] - alpha*grads[i]) for i in range(len(theta))] # update weights of inner loop\n",
    "\n",
    "    v_f = NeuralNetwork(v_x, new_params) # re-initialize task 1 neural network with new parameters\n",
    "    loss2 = F.l1_loss(v_f, v_y) # calculate Loss\n",
    "    loss2.backward() # Backward Pass\n",
    "\n",
    "    opt.step()\n",
    "\n",
    "    if it % 1000 == 0: \n",
    "        print ('Iteration %d Loss %.4f' % (it, loss2))\n",
    "\n"
   ]
  },
  {
   "cell_type": "markdown",
   "metadata": {},
   "source": [
    "#### Step 5: Test Model\n",
    "Once we have obtained right parameters:\n",
    "1. sample task specific 5 data points.\n",
    "2. train model with only 5 points and obatin task specific parameters(test_theta)"
   ]
  },
  {
   "cell_type": "code",
   "execution_count": 6,
   "metadata": {
    "collapsed": true
   },
   "outputs": [],
   "source": [
    "# Randomly generate 5 data points.\n",
    "t_b = math.pi \n",
    "t_x = torch.rand(4, 1)*4*math.pi - 2*math.pi\n",
    "t_y = torch.sin(t_x + t_b)\n",
    "\n",
    "opt.zero_grad()\n",
    "n_inner_loop = 5\n",
    "t_params = theta\n",
    "for k in range(n_inner_loop):\n",
    "    t_f = NeuralNetwork(t_x, t_params)\n",
    "    t_loss = F.l1_loss(t_f, t_y)\n",
    "\n",
    "    grads = torch.autograd.grad(t_loss, t_params, create_graph=True)\n",
    "    t_params = [(t_params[i] - alpha*grads[i]) for i in range(len(theta))]"
   ]
  },
  {
   "cell_type": "markdown",
   "metadata": {},
   "source": [
    "##### Plot the output\n",
    "Now, we will obtain certain sine curve points for plotting purpose, and observe our trained model."
   ]
  },
  {
   "cell_type": "code",
   "execution_count": 7,
   "metadata": {},
   "outputs": [
    {
     "data": {
      "image/png": "[encoded data removed]",
      "text/plain": [
       "<Figure size 432x288 with 1 Axes>"
      ]
     },
     "metadata": {
      "needs_background": "light"
     },
     "output_type": "display_data"
    }
   ],
   "source": [
    "test_x = torch.arange(-2*math.pi, 2*math.pi, step=0.01).unsqueeze(1)\n",
    "test_y = torch.sin(test_x + t_b)\n",
    "\n",
    "test_f = NeuralNetwork(test_x, t_params)\n",
    "\n",
    "plt.plot(test_x.data.numpy(), test_y.data.numpy(), label='sin(x)')\n",
    "plt.plot(test_x.data.numpy(), test_f.data.numpy(), label='net(x)')\n",
    "plt.plot(t_x.data.numpy(), t_y.data.numpy(), 'o', label='Examples')\n",
    "plt.legend()\n",
    "plt.savefig('maml-sine.png')"
   ]
  },
  {
   "cell_type": "code",
   "execution_count": null,
   "metadata": {
    "collapsed": true
   },
   "outputs": [],
   "source": []
  }
 ],
 "metadata": {
  "kernelspec": {
   "display_name": "Python 3",
   "language": "python",
   "name": "python3"
  },
  "language_info": {
   "codemirror_mode": {
    "name": "ipython",
    "version": 3
   },
   "file_extension": ".py",
   "mimetype": "text/x-python",
   "name": "python",
   "nbconvert_exporter": "python",
   "pygments_lexer": "ipython3",
   "version": "3.6.3"
  }
 },
 "nbformat": 4,
 "nbformat_minor": 2
}
